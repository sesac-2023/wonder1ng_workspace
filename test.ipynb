{
 "cells": [
  {
   "attachments": {},
   "cell_type": "markdown",
   "metadata": {},
   "source": [
    "머쓱이보다 키 큰 사람\n",
    "https://school.programmers.co.kr/learn/courses/30/lessons/120585\n",
    "\n",
    "k의 개수\n",
    "https://school.programmers.co.kr/learn/courses/30/lessons/120887 \n",
    "\n",
    "할인 행사\n",
    "https://school.programmers.co.kr/learn/courses/30/lessons/131127"
   ]
  },
  {
   "cell_type": "code",
   "execution_count": 26,
   "metadata": {},
   "outputs": [],
   "source": [
    "def solution(array, height):\n",
    "    return sum([1 for i in array if i> height])"
   ]
  },
  {
   "cell_type": "code",
   "execution_count": 27,
   "metadata": {},
   "outputs": [],
   "source": [
    "def solution(i, j, k):\n",
    "    return sum([str(_).count(str(k)) for _ in range(i, j+1)])"
   ]
  },
  {
   "cell_type": "code",
   "execution_count": 13,
   "metadata": {},
   "outputs": [],
   "source": [
    "def solution(want, number, discount):\n",
    "    # answer = 0\n",
    "    # for i in range(len(discount)-9):\n",
    "    #     if [discount[i:i+10].count(j) for j in want]==number: answer+=1\n",
    "    # return answer\n",
    "\n",
    "    return len([i for i in range(len(discount)-9) if [discount[i:i+10].count(j) for j in want]==number])"
   ]
  }
 ],
 "metadata": {
  "kernelspec": {
   "display_name": "deep",
   "language": "python",
   "name": "python3"
  },
  "language_info": {
   "codemirror_mode": {
    "name": "ipython",
    "version": 3
   },
   "file_extension": ".py",
   "mimetype": "text/x-python",
   "name": "python",
   "nbconvert_exporter": "python",
   "pygments_lexer": "ipython3",
   "version": "3.9.16"
  },
  "orig_nbformat": 4
 },
 "nbformat": 4,
 "nbformat_minor": 2
}
